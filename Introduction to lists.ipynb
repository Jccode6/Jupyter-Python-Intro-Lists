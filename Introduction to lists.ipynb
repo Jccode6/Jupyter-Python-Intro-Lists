{
 "cells": [
  {
   "cell_type": "code",
   "execution_count": 3,
   "metadata": {},
   "outputs": [
    {
     "name": "stdout",
     "output_type": "stream",
     "text": [
      "['UGK', 'Trae Tha Truth', 'Yella Beezy', 'Z-RO', 'MO3']\n"
     ]
    }
   ],
   "source": [
    "#Create a list\n",
    "Texas_Rappers = ['UGK','Trae Tha Truth','Yella Beezy','Z-RO','MO3']\n",
    "print(Texas_Rappers)"
   ]
  },
  {
   "cell_type": "code",
   "execution_count": 4,
   "metadata": {},
   "outputs": [
    {
     "name": "stdout",
     "output_type": "stream",
     "text": [
      "['UGK', 'Trae Tha Truth', 'Yella Beezy', 'Z-RO', 'MO3', 'Lil Keke']\n"
     ]
    }
   ],
   "source": [
    "#Add to created list\n",
    "Texas_Rappers.append('Lil Keke')\n",
    "print(Texas_Rappers)"
   ]
  },
  {
   "cell_type": "code",
   "execution_count": 5,
   "metadata": {},
   "outputs": [
    {
     "name": "stdout",
     "output_type": "stream",
     "text": [
      "['UGK', 'Trae Tha Truth', 'Yella Beezy', 'Z-RO', 'MO3']\n"
     ]
    }
   ],
   "source": [
    "#Remove value from created list\n",
    "Texas_Rappers.remove('Lil Keke')\n",
    "print(Texas_Rappers)"
   ]
  },
  {
   "cell_type": "code",
   "execution_count": 8,
   "metadata": {},
   "outputs": [
    {
     "name": "stdout",
     "output_type": "stream",
     "text": [
      "5\n"
     ]
    }
   ],
   "source": [
    "#Find length of list\n",
    "print(len(Texas_Rappers))"
   ]
  },
  {
   "cell_type": "code",
   "execution_count": 9,
   "metadata": {},
   "outputs": [
    {
     "name": "stdout",
     "output_type": "stream",
     "text": [
      "['UGK', 'Trae Tha Truth', 'Yella Beezy', 'Paul Wall', 'Z-RO', 'MO3']\n"
     ]
    }
   ],
   "source": [
    "#Add value at any position in list\n",
    "Texas_Rappers.insert(3,'Paul Wall')\n",
    "print(Texas_Rappers)"
   ]
  },
  {
   "cell_type": "code",
   "execution_count": 11,
   "metadata": {},
   "outputs": [
    {
     "data": {
      "text/plain": [
       "2"
      ]
     },
     "execution_count": 11,
     "metadata": {},
     "output_type": "execute_result"
    }
   ],
   "source": [
    "#Find index of value in list\n",
    "Texas_Rappers.index('Yella Beezy')"
   ]
  },
  {
   "cell_type": "code",
   "execution_count": null,
   "metadata": {},
   "outputs": [],
   "source": []
  }
 ],
 "metadata": {
  "kernelspec": {
   "display_name": "Python 3",
   "language": "python",
   "name": "python3"
  },
  "language_info": {
   "codemirror_mode": {
    "name": "ipython",
    "version": 3
   },
   "file_extension": ".py",
   "mimetype": "text/x-python",
   "name": "python",
   "nbconvert_exporter": "python",
   "pygments_lexer": "ipython3",
   "version": "3.6.8"
  }
 },
 "nbformat": 4,
 "nbformat_minor": 2
}
