{
 "cells": [
  {
   "cell_type": "code",
   "execution_count": 1,
   "metadata": {},
   "outputs": [],
   "source": [
    "#Create lists\n",
    "Texas_Rappers = ['UGK','Trae Tha Truth','Yella Beezy','Scarface','MO3']\n",
    "Women_Rappers = ['Rapsody','Nicki Manaj','Meg The Stallion','Foxy Brown', 'Lil Kim']\n",
    "NY_Rappers = ['Nas','Biggie','Rakim','Benny The Butcher','Raekwon']\n",
    "Eastbay_Rappers = ['E-40','Rydah J Klyde','Too Short','Yukmouth','J Stalin']\n"
   ]
  },
  {
   "cell_type": "code",
   "execution_count": 5,
   "metadata": {},
   "outputs": [
    {
     "name": "stdout",
     "output_type": "stream",
     "text": [
      "['UGK', 'Trae Tha Truth', 'Yella Beezy', 'Scarface', 'MO3']\n",
      "['Rapsody', 'Nicki Manaj', 'Meg The Stallion', 'Foxy Brown', 'Lil Kim']\n",
      "['Nas', 'Biggie', 'Rakim', 'Benny The Butcher', 'Raekwon']\n",
      "['E-40', 'Rydah J Klyde', 'Too Short', 'Yukmouth', 'J Stalin']\n"
     ]
    }
   ],
   "source": [
    "print(Texas_Rappers)\n",
    "print(Women_Rappers)\n",
    "print(NY_Rappers)\n",
    "print(Eastbay_Rappers)"
   ]
  },
  {
   "cell_type": "code",
   "execution_count": 6,
   "metadata": {},
   "outputs": [],
   "source": [
    "#Create dictionaries to rate albums for rappers\n",
    "\n",
    "#TX Rapper dictionaries\n",
    "UGK_Albums = {'Dirty Money': 3,'Ridin Dirty': 4,'Underground Kings': 4, 'UGK 4 Life': 3, 'Super Tight': 3.5}\n",
    "Trae_Tha_Truth_Albums = {'The Tonite Show': 4.5,'Restless': 3, 'The Truth Show': 3, 'Tha Truth': 3, 'I Am King': 3}\n",
    "Yella_Beezy_Songs = {\"That's On me\": 5, 'Bacc At It Again': 2.5, 'Hittas': 2, 'What I Did': 2, 'Bathroom Occupied': 3}\n",
    "Scarface_Albums = {'The Fix': 4, 'The Diary': 3.5, 'My Homies': 4, 'Greatest Hits': 4, 'The Untouchable': 3}\n",
    "MO3_Songs = {'Errybody': 2, 'And I': 2.5, 'Long Time Coming': 3, 'Gangsta Love': 1, 'Murder Man': 2}\n",
    "\n",
    "#Women Rapper dictionaries\n",
    "Rapsody_Albums = {\"Laila's Wisdom\": 4,'Eve': 3,'Beauty and the Beast':3.5}\n",
    "Nicki_Albums = {'Pinkprint': 3, 'Pink Friday': 4,'Queen': 3}\n",
    "Meg_Albums = {'Fever': 3,'Tina Snow': 3.5,'Make It Hot': 3}\n",
    "Foxy_Albums = {'Ill Na Na': 4, 'The Firm': 4.5, 'Chyna Doll': 3.5, 'Broken Silence': 3.5}\n",
    "Kim_Albums = {'Hard Core': 4, 'The Notorious K.I.M': 4, 'La Bella Mafia': 3.5, 'The Naked Truth': 2}\n",
    "\n",
    "#NY Rapper dictionaries\n",
    "Nas_Albums = {'Illmatic': 5, 'Stillmatic': 4, 'It Was Written': 3.5, 'Hip Hop Is Dead': 4, 'Life Is Good': 4}\n",
    "Biggie_Albums = {'Ready To Die': 5, 'Life After Death': 4, 'Born Again': 3.5, 'The Duets': 3, 'Greatest Hits': 3.5}\n",
    "Rakim_Albums = {'Paid In Full': 4, 'Follow The Leader': 4.5, \"Don't Sweat The Technique\": 3, 'Let The Rhythm Hit': 3}\n",
    "Benny_Albums = {'A Friend of Ours': 4, 'The Plugs I Met': 3.5, 'Butcher On Steroids': 3.5, 'My First Brick': 3, 'Cocaine Cowboys': 3}\n",
    "Raekwon_Albums = {'Only Built 4 Cuban Linx': 5, 'The Tonite Show': 3.5, 'The Wild': 3.5, 'Only Built 4 Cuban Linx 2': 4, 'Fly International Luxurious Art': 3.5}\n",
    "\n",
    "#East Bay dictionaries\n",
    "E40_Albums = {'My Ghetto Report Card': 3.5, 'Sharp On All 4 Corners Corner 1': 3.5, 'Hall Of Game': 3, 'The Mail Man': 3, 'The Block Brochure Welcome':\n",
    "3}\n",
    "Klyde_Albums = {'The Tonite Show': 4, 'Pueblo Esco': 3, 'Klyde Show': 3, 'Klyde Fisher': 3, 'All White Party': 3}\n",
    "Too_Short_Albums = {'Born To Mack': 3, 'Life Is... Too Short': 4, 'Cocktails': 4, \"Can't Stay Away\": 3, 'Blow The Whistle': 3.5}\n",
    "Yukmouth_Albums = {'Thugged Out The Albulation': 3,'Godzilla': 3,'Lord Of War': 3, 'Free At Last': 2.5, 'Half Baked': 3}\n",
    "JStalin_Albums = {'Prenuptial Agreement': 3.5, 'Tears Of Joy': 3, 'Gas Nation 2': 3, 'On Behalf Of The Streets 2': 2.5, 'The Tonite Show': 3}"
   ]
  },
  {
   "cell_type": "code",
   "execution_count": null,
   "metadata": {},
   "outputs": [],
   "source": []
  },
  {
   "cell_type": "code",
   "execution_count": null,
   "metadata": {},
   "outputs": [],
   "source": []
  }
 ],
 "metadata": {
  "kernelspec": {
   "display_name": "Python 3",
   "language": "python",
   "name": "python3"
  },
  "language_info": {
   "codemirror_mode": {
    "name": "ipython",
    "version": 3
   },
   "file_extension": ".py",
   "mimetype": "text/x-python",
   "name": "python",
   "nbconvert_exporter": "python",
   "pygments_lexer": "ipython3",
   "version": "3.6.8"
  }
 },
 "nbformat": 4,
 "nbformat_minor": 2
}
